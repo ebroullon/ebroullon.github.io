{
  "cells": [
    {
      "cell_type": "raw",
      "metadata": {},
      "source": [
        "---\n",
        "title: \"Outreach\"\n",
        "author: ''\n",
        "editor: visual\n",
        "format:\n",
        "  html:\n",
        "    theme: unite\n",
        "    css: styles.css\n",
        "    toc: true\n",
        "    include-in-header: \n",
        "     - text: |\n",
        "        <link rel=\"stylesheet\" href=\"https://cdnjs.cloudflare.com/ajax/libs/font-awesome/6.0.0-beta3/css/all.min.css\" integrity=\"sha384-k6RqeWeci5ZR/Lv4MR0sA0FfDOMyZ2vyZmf3eNihIBL6u3Dks3RE5fFfhLGVpZp8\" crossorigin=\"anonymous\">\n",
        "\n",
        "\n",
        "---"
      ],
      "id": "b23dd977"
    },
    {
      "cell_type": "markdown",
      "metadata": {},
      "source": [
        "## Scientific video pills \n",
        "\n",
        "```{html}\n",
        "<div class=\"video-grid\">\n",
        "  <div class=\"video-item\">\n",
        "    <iframe src=\"https://www.youtube.com/embed/YQEJA2p6gzE\" frameborder=\"0\" allowfullscreen></iframe>\n",
        "  </div>\n",
        "  <div class=\"video-item\">\n",
        "    <iframe src=\"https://www.youtube.com/embed/YQEJA2p6gzE\" frameborder=\"0\" allowfullscreen></iframe>\n",
        "  </div>\n",
        "  <div class=\"video-item\">\n",
        "    <iframe src=\"https://www.youtube.com/embed/YQEJA2p6gzE\" frameborder=\"0\" allowfullscreen></iframe>\n",
        "  </div>\n",
        "  <div class=\"video-item\">\n",
        "    <iframe src=\"https://www.youtube.com/embed/YQEJA2p6gzE\" frameborder=\"0\" allowfullscreen></iframe>\n",
        "  </div>\n",
        "</div>\n",
        "  \n",
        "\n",
        "## Local News\n"
      ],
      "id": "1eee73ba"
    }
  ],
  "metadata": {
    "kernelspec": {
      "display_name": "Python 3",
      "language": "python",
      "name": "python3"
    }
  },
  "nbformat": 4,
  "nbformat_minor": 5
}